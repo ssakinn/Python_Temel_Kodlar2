{
 "cells": [
  {
   "cell_type": "markdown",
   "id": "306d571e-6ed6-44f7-9e27-3ca84eaf8db9",
   "metadata": {},
   "source": [
    "##VERİ TÜRLERİ"
   ]
  },
  {
   "cell_type": "code",
   "execution_count": 32,
   "id": "22a0c9c8-9022-401c-b1b1-d5f7c5bd7a90",
   "metadata": {},
   "outputs": [],
   "source": [
    "# String"
   ]
  },
  {
   "cell_type": "code",
   "execution_count": 5,
   "id": "55e15528-811e-4eab-8e1b-b89cf27d78e2",
   "metadata": {},
   "outputs": [
    {
     "name": "stdout",
     "output_type": "stream",
     "text": [
      "Merhaba veri bilimi\n"
     ]
    }
   ],
   "source": [
    "print('Merhaba veri bilimi')"
   ]
  },
  {
   "cell_type": "code",
   "execution_count": 7,
   "id": "93d2608d-d692-47b2-9e0b-fe090a552dc3",
   "metadata": {},
   "outputs": [
    {
     "name": "stdout",
     "output_type": "stream",
     "text": [
      "Merhaba veri bilimi\n"
     ]
    }
   ],
   "source": [
    "print(\"Merhaba veri bilimi\")"
   ]
  },
  {
   "cell_type": "code",
   "execution_count": 19,
   "id": "0269639b-a9d9-4230-8f95-3ca05ec05298",
   "metadata": {},
   "outputs": [
    {
     "name": "stdout",
     "output_type": "stream",
     "text": [
      "merhaba veri bilimi\n"
     ]
    }
   ],
   "source": [
    "print(\"merhaba \\\n",
    "veri \\\n",
    "bilimi\")"
   ]
  },
  {
   "cell_type": "code",
   "execution_count": null,
   "id": "cf18c5cf-9bd9-46c3-8188-d78a478e947f",
   "metadata": {},
   "outputs": [],
   "source": [
    "# İnteger"
   ]
  },
  {
   "cell_type": "code",
   "execution_count": 21,
   "id": "a012da63-1959-4360-889c-45bd09035c20",
   "metadata": {},
   "outputs": [
    {
     "name": "stdout",
     "output_type": "stream",
     "text": [
      "55\n"
     ]
    }
   ],
   "source": [
    "print(55)"
   ]
  },
  {
   "cell_type": "code",
   "execution_count": 23,
   "id": "13de49d5-1461-40c5-b9e5-483c6bdd44af",
   "metadata": {},
   "outputs": [
    {
     "name": "stdout",
     "output_type": "stream",
     "text": [
      "123456790\n"
     ]
    }
   ],
   "source": [
    "print(123456789+1)"
   ]
  },
  {
   "cell_type": "code",
   "execution_count": 25,
   "id": "215bdb68-17c9-40d9-a4d5-3114026aaac6",
   "metadata": {},
   "outputs": [
    {
     "data": {
      "text/plain": [
       "55"
      ]
     },
     "execution_count": 25,
     "metadata": {},
     "output_type": "execute_result"
    }
   ],
   "source": [
    "55"
   ]
  },
  {
   "cell_type": "code",
   "execution_count": 36,
   "id": "42dcc636-df96-4d2c-8042-68c3dcca1aa7",
   "metadata": {},
   "outputs": [],
   "source": [
    "# Float"
   ]
  },
  {
   "cell_type": "code",
   "execution_count": 38,
   "id": "e1f26846-56b9-4644-bb7f-5990f393803c",
   "metadata": {},
   "outputs": [
    {
     "data": {
      "text/plain": [
       "5.5"
      ]
     },
     "execution_count": 38,
     "metadata": {},
     "output_type": "execute_result"
    }
   ],
   "source": [
    "5.5"
   ]
  },
  {
   "cell_type": "code",
   "execution_count": 40,
   "id": "4b20b8fd-8cf0-4bd2-ba12-8abf6982df33",
   "metadata": {},
   "outputs": [
    {
     "data": {
      "text/plain": [
       "-55.03"
      ]
     },
     "execution_count": 40,
     "metadata": {},
     "output_type": "execute_result"
    }
   ],
   "source": [
    "-55.03"
   ]
  },
  {
   "cell_type": "code",
   "execution_count": 42,
   "id": "4dc066bf-e7ae-4f77-8cdc-6e58215e1ed9",
   "metadata": {},
   "outputs": [
    {
     "data": {
      "text/plain": [
       "float"
      ]
     },
     "execution_count": 42,
     "metadata": {},
     "output_type": "execute_result"
    }
   ],
   "source": [
    "type(55.03)"
   ]
  },
  {
   "cell_type": "code",
   "execution_count": 44,
   "id": "afc8d7db-1bbe-4094-9e79-8da339616ba1",
   "metadata": {},
   "outputs": [
    {
     "data": {
      "text/plain": [
       "5.03e+55"
      ]
     },
     "execution_count": 44,
     "metadata": {},
     "output_type": "execute_result"
    }
   ],
   "source": [
    "5.03e55"
   ]
  },
  {
   "cell_type": "code",
   "execution_count": 46,
   "id": "41dee69b-c180-46f4-a60d-b2ec526ff3df",
   "metadata": {},
   "outputs": [
    {
     "data": {
      "text/plain": [
       "float"
      ]
     },
     "execution_count": 46,
     "metadata": {},
     "output_type": "execute_result"
    }
   ],
   "source": [
    "type(5.03e55)"
   ]
  },
  {
   "cell_type": "code",
   "execution_count": 48,
   "id": "1b4fb3e1-652c-4d69-84d7-8c115c9d266c",
   "metadata": {},
   "outputs": [
    {
     "data": {
      "text/plain": [
       "4.5e-110"
      ]
     },
     "execution_count": 48,
     "metadata": {},
     "output_type": "execute_result"
    }
   ],
   "source": [
    "45e-111"
   ]
  },
  {
   "cell_type": "code",
   "execution_count": 52,
   "id": "c76f3663-fcff-470d-b8f1-2e99ac08a85f",
   "metadata": {},
   "outputs": [
    {
     "data": {
      "text/plain": [
       "(55+3j)"
      ]
     },
     "execution_count": 52,
     "metadata": {},
     "output_type": "execute_result"
    }
   ],
   "source": [
    "55+3j"
   ]
  },
  {
   "cell_type": "code",
   "execution_count": 54,
   "id": "5841b427-fca6-4fa6-aa99-59033d7d4501",
   "metadata": {},
   "outputs": [
    {
     "data": {
      "text/plain": [
       "complex"
      ]
     },
     "execution_count": 54,
     "metadata": {},
     "output_type": "execute_result"
    }
   ],
   "source": [
    "type(55+3j)"
   ]
  },
  {
   "cell_type": "markdown",
   "id": "4c3acf57-cfba-453c-9ef4-ae08652bfb81",
   "metadata": {},
   "source": [
    "#Bool "
   ]
  },
  {
   "cell_type": "code",
   "execution_count": null,
   "id": "39161954-269f-40be-aeb2-c8162b76aede",
   "metadata": {},
   "outputs": [],
   "source": []
  },
  {
   "cell_type": "code",
   "execution_count": 62,
   "id": "c84e8353-f7a0-42bb-bd50-c755f97c6c75",
   "metadata": {},
   "outputs": [],
   "source": [
    "#Complex"
   ]
  },
  {
   "cell_type": "raw",
   "id": "f744e181-11ae-4655-974b-6ac0782c219f",
   "metadata": {},
   "source": [
    "55+3j"
   ]
  },
  {
   "cell_type": "code",
   "execution_count": 66,
   "id": "2717a099-bc19-4ba3-a39c-3ab12dd44c1d",
   "metadata": {},
   "outputs": [
    {
     "data": {
      "text/plain": [
       "complex"
      ]
     },
     "execution_count": 66,
     "metadata": {},
     "output_type": "execute_result"
    }
   ],
   "source": [
    "type(55+3j)"
   ]
  },
  {
   "cell_type": "code",
   "execution_count": 68,
   "id": "872b634f-9597-43d8-9e54-2d00266735fd",
   "metadata": {},
   "outputs": [],
   "source": [
    "#Bool"
   ]
  },
  {
   "cell_type": "code",
   "execution_count": 1,
   "id": "2627cca5-bf1a-4b66-aac8-afbc4dfd84fb",
   "metadata": {},
   "outputs": [
    {
     "data": {
      "text/plain": [
       "bool"
      ]
     },
     "execution_count": 1,
     "metadata": {},
     "output_type": "execute_result"
    }
   ],
   "source": [
    "type(True)"
   ]
  },
  {
   "cell_type": "code",
   "execution_count": 3,
   "id": "ff11a496-1514-4029-a264-99a56ca91728",
   "metadata": {},
   "outputs": [
    {
     "data": {
      "text/plain": [
       "bool"
      ]
     },
     "execution_count": 3,
     "metadata": {},
     "output_type": "execute_result"
    }
   ],
   "source": [
    "type(False)"
   ]
  },
  {
   "cell_type": "code",
   "execution_count": 5,
   "id": "cfe68efa-b332-499e-9dcc-bc364800c498",
   "metadata": {},
   "outputs": [],
   "source": [
    "##OPERATÖRLER"
   ]
  },
  {
   "cell_type": "code",
   "execution_count": 7,
   "id": "17a06ff0-9e3e-4e85-a5eb-383a858883ab",
   "metadata": {},
   "outputs": [],
   "source": [
    "#Aritmetik Operatörler"
   ]
  },
  {
   "cell_type": "code",
   "execution_count": 9,
   "id": "7d70b947-32b1-4f88-81ca-f30992a4f432",
   "metadata": {},
   "outputs": [
    {
     "data": {
      "text/plain": [
       "12"
      ]
     },
     "execution_count": 9,
     "metadata": {},
     "output_type": "execute_result"
    }
   ],
   "source": [
    "7+5"
   ]
  },
  {
   "cell_type": "code",
   "execution_count": 11,
   "id": "50a4f9db-27e0-4a3d-9b1f-f8e7e0e7a0d6",
   "metadata": {},
   "outputs": [
    {
     "data": {
      "text/plain": [
       "3.4411764705882355"
      ]
     },
     "execution_count": 11,
     "metadata": {},
     "output_type": "execute_result"
    }
   ],
   "source": [
    "117/34"
   ]
  },
  {
   "cell_type": "code",
   "execution_count": 13,
   "id": "4add481d-2303-4766-b47b-7a4034d0d093",
   "metadata": {},
   "outputs": [
    {
     "data": {
      "text/plain": [
       "81"
      ]
     },
     "execution_count": 13,
     "metadata": {},
     "output_type": "execute_result"
    }
   ],
   "source": [
    "3**4"
   ]
  },
  {
   "cell_type": "code",
   "execution_count": 17,
   "id": "85b784c4-72ac-47dc-a89d-28f36d847bcd",
   "metadata": {},
   "outputs": [
    {
     "data": {
      "text/plain": [
       "11"
      ]
     },
     "execution_count": 17,
     "metadata": {},
     "output_type": "execute_result"
    }
   ],
   "source": [
    "45//4"
   ]
  },
  {
   "cell_type": "code",
   "execution_count": 20,
   "id": "6318661f-4d2b-45c7-b95c-f76a29a15f1e",
   "metadata": {},
   "outputs": [
    {
     "data": {
      "text/plain": [
       "1"
      ]
     },
     "execution_count": 20,
     "metadata": {},
     "output_type": "execute_result"
    }
   ],
   "source": [
    "45%4"
   ]
  },
  {
   "cell_type": "code",
   "execution_count": 22,
   "id": "45a85090-6c2d-4fa5-b3d9-bf40bd9f53e2",
   "metadata": {},
   "outputs": [],
   "source": [
    "##FONKSİYONLAR"
   ]
  },
  {
   "cell_type": "code",
   "execution_count": 24,
   "id": "b3934005-c635-48a6-a982-7c328870f48d",
   "metadata": {},
   "outputs": [
    {
     "name": "stdout",
     "output_type": "stream",
     "text": [
      "Merhaba veri bilimi dersi\n"
     ]
    }
   ],
   "source": [
    "print(\"Merhaba veri bilimi dersi\")"
   ]
  },
  {
   "cell_type": "code",
   "execution_count": 26,
   "id": "0f208816-3191-4506-8d57-c72d45603e2d",
   "metadata": {},
   "outputs": [
    {
     "data": {
      "text/plain": [
       "2019"
      ]
     },
     "execution_count": 26,
     "metadata": {},
     "output_type": "execute_result"
    }
   ],
   "source": [
    "x=-2019\n",
    "abs(x)"
   ]
  },
  {
   "cell_type": "code",
   "execution_count": 28,
   "id": "67375c2a-ac45-4792-b576-b5682f97ebeb",
   "metadata": {},
   "outputs": [
    {
     "data": {
      "text/plain": [
       "-3"
      ]
     },
     "execution_count": 28,
     "metadata": {},
     "output_type": "execute_result"
    }
   ],
   "source": [
    "d=-3.54632\n",
    "int(d)"
   ]
  },
  {
   "cell_type": "code",
   "execution_count": 30,
   "id": "882b3466-7db7-4296-b8b6-2006d8fdc516",
   "metadata": {},
   "outputs": [
    {
     "data": {
      "text/plain": [
       "13"
      ]
     },
     "execution_count": 30,
     "metadata": {},
     "output_type": "execute_result"
    }
   ],
   "source": [
    "notlar= [21,34,57,75,81,83,87,90,93,99,31,37,41]\n",
    "len(notlar)"
   ]
  },
  {
   "cell_type": "code",
   "execution_count": 40,
   "id": "1695fab7-19a1-4cf3-ab69-f2272c631f0d",
   "metadata": {},
   "outputs": [],
   "source": [
    "def plus(a,b):\n",
    "    return a+b"
   ]
  },
  {
   "cell_type": "code",
   "execution_count": 42,
   "id": "0c9f1f40-9131-48a0-90d6-8ac17802c7f0",
   "metadata": {},
   "outputs": [
    {
     "data": {
      "text/plain": [
       "58"
      ]
     },
     "execution_count": 42,
     "metadata": {},
     "output_type": "execute_result"
    }
   ],
   "source": [
    "plus(55,3)"
   ]
  },
  {
   "cell_type": "code",
   "execution_count": 46,
   "id": "71f1993f-56f7-4971-9508-f59fcc1ade3d",
   "metadata": {},
   "outputs": [],
   "source": [
    "def fonk1(x):\n",
    "    return x*x+5"
   ]
  },
  {
   "cell_type": "code",
   "execution_count": 52,
   "id": "e6d7ee1d-6ba8-4348-9f35-45255d881967",
   "metadata": {},
   "outputs": [
    {
     "data": {
      "text/plain": [
       "14"
      ]
     },
     "execution_count": 52,
     "metadata": {},
     "output_type": "execute_result"
    }
   ],
   "source": [
    "fonk1(3)"
   ]
  },
  {
   "cell_type": "code",
   "execution_count": 54,
   "id": "a572f882-9401-44b6-8f77-db39bb227194",
   "metadata": {},
   "outputs": [],
   "source": [
    "def fonk2(x,y,z):\n",
    "    return x**2+y**3+z**-2"
   ]
  },
  {
   "cell_type": "code",
   "execution_count": 56,
   "id": "24354ff5-9894-45ae-831e-7a2bc4f3fb0b",
   "metadata": {},
   "outputs": [
    {
     "data": {
      "text/plain": [
       "166384.00694444444"
      ]
     },
     "execution_count": 56,
     "metadata": {},
     "output_type": "execute_result"
    }
   ],
   "source": [
    "fonk2(3,55,12)"
   ]
  },
  {
   "cell_type": "code",
   "execution_count": 58,
   "id": "52789f77-34b1-4995-beb1-2430e2c693c5",
   "metadata": {},
   "outputs": [
    {
     "name": "stdout",
     "output_type": "stream",
     "text": [
      "0\n",
      "1\n",
      "2\n",
      "3\n",
      "4\n",
      "5\n",
      "6\n",
      "7\n",
      "8\n",
      "9\n"
     ]
    }
   ],
   "source": [
    "for i in range(10):\n",
    "    print(i)"
   ]
  },
  {
   "cell_type": "code",
   "execution_count": 60,
   "id": "3bb77a84-1b03-4759-9f7a-4e5aa1c78cb1",
   "metadata": {},
   "outputs": [],
   "source": [
    "def ortalama(x):\n",
    "    \"x değişkenlerinin ortalamasını hesaplama.\"\n",
    "    top_x=sum(x)\n",
    "    sayı_x=len(x)\n",
    "    return top_x/sayı_x"
   ]
  },
  {
   "cell_type": "code",
   "execution_count": 62,
   "id": "9dcef66c-f32d-4ae9-b31d-0638600c4c7e",
   "metadata": {},
   "outputs": [
    {
     "data": {
      "text/plain": [
       "33.0"
      ]
     },
     "execution_count": 62,
     "metadata": {},
     "output_type": "execute_result"
    }
   ],
   "source": [
    "ortalama([11,22,33,44,55])"
   ]
  },
  {
   "cell_type": "code",
   "execution_count": 64,
   "id": "0b891e62-e9a5-4548-a782-b401f6bc4062",
   "metadata": {},
   "outputs": [],
   "source": [
    "def harmonik_ortalama(s):\n",
    "    \"s tane sayının harmonik ortalamasını hesapalam.\"\n",
    "    n= len(s)\n",
    "    sayılar=[1/s[i] for i in range(0,n)]\n",
    "    harmonik_ortalama= n/sum(sayılar)\n",
    "    return harmonik_ortalama"
   ]
  },
  {
   "cell_type": "code",
   "execution_count": 68,
   "id": "f7ce5db8-9ebc-4892-9403-cb5983088c64",
   "metadata": {},
   "outputs": [
    {
     "data": {
      "text/plain": [
       "24.489795918367346"
      ]
     },
     "execution_count": 68,
     "metadata": {},
     "output_type": "execute_result"
    }
   ],
   "source": [
    "harmonik_ortalama([10,20,30,40,50,60])"
   ]
  },
  {
   "cell_type": "code",
   "execution_count": 70,
   "id": "264ba929-5ed6-428f-9c79-65a383f4d7f5",
   "metadata": {},
   "outputs": [
    {
     "data": {
      "text/plain": [
       "False"
      ]
     },
     "execution_count": 70,
     "metadata": {},
     "output_type": "execute_result"
    }
   ],
   "source": [
    "23==77"
   ]
  },
  {
   "cell_type": "code",
   "execution_count": 72,
   "id": "b9724734-3f4d-499c-a4ac-5a31689403e1",
   "metadata": {},
   "outputs": [
    {
     "data": {
      "text/plain": [
       "True"
      ]
     },
     "execution_count": 72,
     "metadata": {},
     "output_type": "execute_result"
    }
   ],
   "source": [
    "34<=55"
   ]
  },
  {
   "cell_type": "code",
   "execution_count": 74,
   "id": "7dd16fcb-87f2-4a7e-a2f4-3519fedb99b1",
   "metadata": {},
   "outputs": [
    {
     "data": {
      "text/plain": [
       "True"
      ]
     },
     "execution_count": 74,
     "metadata": {},
     "output_type": "execute_result"
    }
   ],
   "source": [
    "4!=5"
   ]
  },
  {
   "cell_type": "code",
   "execution_count": 98,
   "id": "c01c458d-6652-414d-80cf-b8e3b8c3e597",
   "metadata": {},
   "outputs": [
    {
     "data": {
      "text/html": [
       "<div>\n",
       "<style scoped>\n",
       "    .dataframe tbody tr th:only-of-type {\n",
       "        vertical-align: middle;\n",
       "    }\n",
       "\n",
       "    .dataframe tbody tr th {\n",
       "        vertical-align: top;\n",
       "    }\n",
       "\n",
       "    .dataframe thead th {\n",
       "        text-align: right;\n",
       "    }\n",
       "</style>\n",
       "<table border=\"1\" class=\"dataframe\">\n",
       "  <thead>\n",
       "    <tr style=\"text-align: right;\">\n",
       "      <th></th>\n",
       "      <th>Model Year</th>\n",
       "      <th>Division</th>\n",
       "      <th>Carline</th>\n",
       "      <th>Eng Displ</th>\n",
       "      <th># Cyl</th>\n",
       "      <th>City FE</th>\n",
       "      <th>Hwy FE</th>\n",
       "      <th>Comb FE</th>\n",
       "    </tr>\n",
       "  </thead>\n",
       "  <tbody>\n",
       "    <tr>\n",
       "      <th>0</th>\n",
       "      <td>2016</td>\n",
       "      <td>ALFA ROMEO</td>\n",
       "      <td>4C</td>\n",
       "      <td>1.8</td>\n",
       "      <td>4</td>\n",
       "      <td>24</td>\n",
       "      <td>34</td>\n",
       "      <td>28</td>\n",
       "    </tr>\n",
       "    <tr>\n",
       "      <th>1</th>\n",
       "      <td>2016</td>\n",
       "      <td>Aston Martin Lagonda Ltd</td>\n",
       "      <td>V12 Vantage S</td>\n",
       "      <td>6.0</td>\n",
       "      <td>12</td>\n",
       "      <td>12</td>\n",
       "      <td>18</td>\n",
       "      <td>14</td>\n",
       "    </tr>\n",
       "    <tr>\n",
       "      <th>2</th>\n",
       "      <td>2016</td>\n",
       "      <td>Aston Martin Lagonda Ltd</td>\n",
       "      <td>V8 Vantage</td>\n",
       "      <td>4.7</td>\n",
       "      <td>8</td>\n",
       "      <td>14</td>\n",
       "      <td>21</td>\n",
       "      <td>16</td>\n",
       "    </tr>\n",
       "    <tr>\n",
       "      <th>3</th>\n",
       "      <td>2016</td>\n",
       "      <td>Aston Martin Lagonda Ltd</td>\n",
       "      <td>V8 Vantage</td>\n",
       "      <td>4.7</td>\n",
       "      <td>8</td>\n",
       "      <td>13</td>\n",
       "      <td>19</td>\n",
       "      <td>15</td>\n",
       "    </tr>\n",
       "    <tr>\n",
       "      <th>4</th>\n",
       "      <td>2016</td>\n",
       "      <td>Aston Martin Lagonda Ltd</td>\n",
       "      <td>V8 Vantage S</td>\n",
       "      <td>4.7</td>\n",
       "      <td>8</td>\n",
       "      <td>14</td>\n",
       "      <td>21</td>\n",
       "      <td>16</td>\n",
       "    </tr>\n",
       "  </tbody>\n",
       "</table>\n",
       "</div>"
      ],
      "text/plain": [
       "   Model Year                  Division        Carline  Eng Displ  # Cyl  \\\n",
       "0        2016                ALFA ROMEO             4C        1.8      4   \n",
       "1        2016  Aston Martin Lagonda Ltd  V12 Vantage S        6.0     12   \n",
       "2        2016  Aston Martin Lagonda Ltd     V8 Vantage        4.7      8   \n",
       "3        2016  Aston Martin Lagonda Ltd     V8 Vantage        4.7      8   \n",
       "4        2016  Aston Martin Lagonda Ltd   V8 Vantage S        4.7      8   \n",
       "\n",
       "   City FE  Hwy FE  Comb FE  \n",
       "0       24      34       28  \n",
       "1       12      18       14  \n",
       "2       14      21       16  \n",
       "3       13      19       15  \n",
       "4       14      21       16  "
      ]
     },
     "execution_count": 98,
     "metadata": {},
     "output_type": "execute_result"
    }
   ],
   "source": [
    "import pandas as pd\n",
    "import numpy as np\n",
    "data = pd.read_csv(\"C:/Users/sakin/Downloads/fuel.csv\")\n",
    "data.head()"
   ]
  },
  {
   "cell_type": "code",
   "execution_count": 108,
   "id": "2c86827d-87bf-49e3-a0da-e40d996f254a",
   "metadata": {},
   "outputs": [
    {
     "name": "stdout",
     "output_type": "stream",
     "text": [
      "(1205, 8)\n"
     ]
    }
   ],
   "source": [
    "print(data.shape)"
   ]
  },
  {
   "cell_type": "code",
   "execution_count": 106,
   "id": "e884733e-a5d6-4281-8f53-5199b1fae9df",
   "metadata": {},
   "outputs": [
    {
     "name": "stdout",
     "output_type": "stream",
     "text": [
      "Index(['Model Year', 'Division', 'Carline', 'Eng Displ', '# Cyl', 'City FE',\n",
      "       'Hwy FE', 'Comb FE'],\n",
      "      dtype='object')\n"
     ]
    }
   ],
   "source": [
    "print(data.columns)"
   ]
  },
  {
   "cell_type": "code",
   "execution_count": 112,
   "id": "29d65a8a-fdee-4c9c-a032-eb2d20df3b4d",
   "metadata": {},
   "outputs": [
    {
     "data": {
      "text/html": [
       "<div>\n",
       "<style scoped>\n",
       "    .dataframe tbody tr th:only-of-type {\n",
       "        vertical-align: middle;\n",
       "    }\n",
       "\n",
       "    .dataframe tbody tr th {\n",
       "        vertical-align: top;\n",
       "    }\n",
       "\n",
       "    .dataframe thead th {\n",
       "        text-align: right;\n",
       "    }\n",
       "</style>\n",
       "<table border=\"1\" class=\"dataframe\">\n",
       "  <thead>\n",
       "    <tr style=\"text-align: right;\">\n",
       "      <th></th>\n",
       "      <th>Model Year</th>\n",
       "      <th>Division</th>\n",
       "      <th>Carline</th>\n",
       "      <th>Eng Displ</th>\n",
       "      <th># Cyl</th>\n",
       "      <th>City FE</th>\n",
       "      <th>Hwy FE</th>\n",
       "      <th>Comb FE</th>\n",
       "    </tr>\n",
       "  </thead>\n",
       "  <tbody>\n",
       "    <tr>\n",
       "      <th>0</th>\n",
       "      <td>2016</td>\n",
       "      <td>ALFA ROMEO</td>\n",
       "      <td>4C</td>\n",
       "      <td>1.8</td>\n",
       "      <td>4</td>\n",
       "      <td>24</td>\n",
       "      <td>34</td>\n",
       "      <td>28</td>\n",
       "    </tr>\n",
       "    <tr>\n",
       "      <th>1</th>\n",
       "      <td>2016</td>\n",
       "      <td>Aston Martin Lagonda Ltd</td>\n",
       "      <td>V12 Vantage S</td>\n",
       "      <td>6.0</td>\n",
       "      <td>12</td>\n",
       "      <td>12</td>\n",
       "      <td>18</td>\n",
       "      <td>14</td>\n",
       "    </tr>\n",
       "    <tr>\n",
       "      <th>2</th>\n",
       "      <td>2016</td>\n",
       "      <td>Aston Martin Lagonda Ltd</td>\n",
       "      <td>V8 Vantage</td>\n",
       "      <td>4.7</td>\n",
       "      <td>8</td>\n",
       "      <td>14</td>\n",
       "      <td>21</td>\n",
       "      <td>16</td>\n",
       "    </tr>\n",
       "    <tr>\n",
       "      <th>3</th>\n",
       "      <td>2016</td>\n",
       "      <td>Aston Martin Lagonda Ltd</td>\n",
       "      <td>V8 Vantage</td>\n",
       "      <td>4.7</td>\n",
       "      <td>8</td>\n",
       "      <td>13</td>\n",
       "      <td>19</td>\n",
       "      <td>15</td>\n",
       "    </tr>\n",
       "    <tr>\n",
       "      <th>4</th>\n",
       "      <td>2016</td>\n",
       "      <td>Aston Martin Lagonda Ltd</td>\n",
       "      <td>V8 Vantage S</td>\n",
       "      <td>4.7</td>\n",
       "      <td>8</td>\n",
       "      <td>14</td>\n",
       "      <td>21</td>\n",
       "      <td>16</td>\n",
       "    </tr>\n",
       "    <tr>\n",
       "      <th>5</th>\n",
       "      <td>2016</td>\n",
       "      <td>Aston Martin Lagonda Ltd</td>\n",
       "      <td>V8 Vantage S</td>\n",
       "      <td>4.7</td>\n",
       "      <td>8</td>\n",
       "      <td>13</td>\n",
       "      <td>19</td>\n",
       "      <td>15</td>\n",
       "    </tr>\n",
       "    <tr>\n",
       "      <th>6</th>\n",
       "      <td>2016</td>\n",
       "      <td>Aston Martin Lagonda Ltd</td>\n",
       "      <td>Vantage GT</td>\n",
       "      <td>4.7</td>\n",
       "      <td>8</td>\n",
       "      <td>14</td>\n",
       "      <td>21</td>\n",
       "      <td>16</td>\n",
       "    </tr>\n",
       "    <tr>\n",
       "      <th>7</th>\n",
       "      <td>2016</td>\n",
       "      <td>Aston Martin Lagonda Ltd</td>\n",
       "      <td>Vantage GT</td>\n",
       "      <td>4.7</td>\n",
       "      <td>8</td>\n",
       "      <td>13</td>\n",
       "      <td>19</td>\n",
       "      <td>15</td>\n",
       "    </tr>\n",
       "    <tr>\n",
       "      <th>8</th>\n",
       "      <td>2016</td>\n",
       "      <td>Audi</td>\n",
       "      <td>TT Roadster quattro</td>\n",
       "      <td>2.0</td>\n",
       "      <td>4</td>\n",
       "      <td>23</td>\n",
       "      <td>30</td>\n",
       "      <td>26</td>\n",
       "    </tr>\n",
       "    <tr>\n",
       "      <th>9</th>\n",
       "      <td>2016</td>\n",
       "      <td>BMW</td>\n",
       "      <td>M4 GTS</td>\n",
       "      <td>3.0</td>\n",
       "      <td>6</td>\n",
       "      <td>16</td>\n",
       "      <td>23</td>\n",
       "      <td>19</td>\n",
       "    </tr>\n",
       "  </tbody>\n",
       "</table>\n",
       "</div>"
      ],
      "text/plain": [
       "   Model Year                  Division              Carline  Eng Displ  \\\n",
       "0        2016                ALFA ROMEO                   4C        1.8   \n",
       "1        2016  Aston Martin Lagonda Ltd        V12 Vantage S        6.0   \n",
       "2        2016  Aston Martin Lagonda Ltd           V8 Vantage        4.7   \n",
       "3        2016  Aston Martin Lagonda Ltd           V8 Vantage        4.7   \n",
       "4        2016  Aston Martin Lagonda Ltd         V8 Vantage S        4.7   \n",
       "5        2016  Aston Martin Lagonda Ltd         V8 Vantage S        4.7   \n",
       "6        2016  Aston Martin Lagonda Ltd           Vantage GT        4.7   \n",
       "7        2016  Aston Martin Lagonda Ltd           Vantage GT        4.7   \n",
       "8        2016                      Audi  TT Roadster quattro        2.0   \n",
       "9        2016                       BMW               M4 GTS        3.0   \n",
       "\n",
       "   # Cyl  City FE  Hwy FE  Comb FE  \n",
       "0      4       24      34       28  \n",
       "1     12       12      18       14  \n",
       "2      8       14      21       16  \n",
       "3      8       13      19       15  \n",
       "4      8       14      21       16  \n",
       "5      8       13      19       15  \n",
       "6      8       14      21       16  \n",
       "7      8       13      19       15  \n",
       "8      4       23      30       26  \n",
       "9      6       16      23       19  "
      ]
     },
     "execution_count": 112,
     "metadata": {},
     "output_type": "execute_result"
    }
   ],
   "source": [
    "data.head(10)"
   ]
  },
  {
   "cell_type": "code",
   "execution_count": 114,
   "id": "2d641ce7-3d7b-455f-9dfe-c88ed28011b8",
   "metadata": {},
   "outputs": [
    {
     "data": {
      "text/plain": [
       "<bound method NDFrame.tail of       Model Year                  Division          Carline  Eng Displ  # Cyl  \\\n",
       "0           2016                ALFA ROMEO               4C        1.8      4   \n",
       "1           2016  Aston Martin Lagonda Ltd    V12 Vantage S        6.0     12   \n",
       "2           2016  Aston Martin Lagonda Ltd       V8 Vantage        4.7      8   \n",
       "3           2016  Aston Martin Lagonda Ltd       V8 Vantage        4.7      8   \n",
       "4           2016  Aston Martin Lagonda Ltd     V8 Vantage S        4.7      8   \n",
       "...          ...                       ...              ...        ...    ...   \n",
       "1200        2016                    TOYOTA  SEQUOIA 4WD FFV        5.7      8   \n",
       "1201        2016                Volkswagen          Touareg        3.0      6   \n",
       "1202        2016                Volkswagen          Touareg        3.6      6   \n",
       "1203        2016                     Volvo         XC90 AWD        2.0      4   \n",
       "1204        2016                     Volvo         XC90 AWD        2.0      4   \n",
       "\n",
       "      City FE  Hwy FE  Comb FE  \n",
       "0          24      34       28  \n",
       "1          12      18       14  \n",
       "2          14      21       16  \n",
       "3          13      19       15  \n",
       "4          14      21       16  \n",
       "...       ...     ...      ...  \n",
       "1200       13      17       14  \n",
       "1201       21      29       24  \n",
       "1202       17      23       19  \n",
       "1203       20      25       22  \n",
       "1204       22      25       23  \n",
       "\n",
       "[1205 rows x 8 columns]>"
      ]
     },
     "execution_count": 114,
     "metadata": {},
     "output_type": "execute_result"
    }
   ],
   "source": [
    "data.tail"
   ]
  },
  {
   "cell_type": "code",
   "execution_count": 118,
   "id": "d73ef314-0ab2-4ae4-888c-a6b0443b819b",
   "metadata": {},
   "outputs": [
    {
     "data": {
      "text/html": [
       "<div>\n",
       "<style scoped>\n",
       "    .dataframe tbody tr th:only-of-type {\n",
       "        vertical-align: middle;\n",
       "    }\n",
       "\n",
       "    .dataframe tbody tr th {\n",
       "        vertical-align: top;\n",
       "    }\n",
       "\n",
       "    .dataframe thead th {\n",
       "        text-align: right;\n",
       "    }\n",
       "</style>\n",
       "<table border=\"1\" class=\"dataframe\">\n",
       "  <thead>\n",
       "    <tr style=\"text-align: right;\">\n",
       "      <th></th>\n",
       "      <th>Model Year</th>\n",
       "      <th>Eng Displ</th>\n",
       "      <th># Cyl</th>\n",
       "      <th>City FE</th>\n",
       "      <th>Hwy FE</th>\n",
       "      <th>Comb FE</th>\n",
       "    </tr>\n",
       "  </thead>\n",
       "  <tbody>\n",
       "    <tr>\n",
       "      <th>count</th>\n",
       "      <td>1205.0</td>\n",
       "      <td>1205.000000</td>\n",
       "      <td>1205.000000</td>\n",
       "      <td>1205.000000</td>\n",
       "      <td>1205.000000</td>\n",
       "      <td>1205.000000</td>\n",
       "    </tr>\n",
       "    <tr>\n",
       "      <th>mean</th>\n",
       "      <td>2016.0</td>\n",
       "      <td>3.150041</td>\n",
       "      <td>5.628216</td>\n",
       "      <td>20.461411</td>\n",
       "      <td>28.215768</td>\n",
       "      <td>23.295436</td>\n",
       "    </tr>\n",
       "    <tr>\n",
       "      <th>std</th>\n",
       "      <td>0.0</td>\n",
       "      <td>1.336714</td>\n",
       "      <td>1.837556</td>\n",
       "      <td>5.449821</td>\n",
       "      <td>5.987383</td>\n",
       "      <td>5.567975</td>\n",
       "    </tr>\n",
       "    <tr>\n",
       "      <th>min</th>\n",
       "      <td>2016.0</td>\n",
       "      <td>0.900000</td>\n",
       "      <td>3.000000</td>\n",
       "      <td>10.000000</td>\n",
       "      <td>13.000000</td>\n",
       "      <td>12.000000</td>\n",
       "    </tr>\n",
       "    <tr>\n",
       "      <th>25%</th>\n",
       "      <td>2016.0</td>\n",
       "      <td>2.000000</td>\n",
       "      <td>4.000000</td>\n",
       "      <td>17.000000</td>\n",
       "      <td>24.000000</td>\n",
       "      <td>19.000000</td>\n",
       "    </tr>\n",
       "    <tr>\n",
       "      <th>50%</th>\n",
       "      <td>2016.0</td>\n",
       "      <td>3.000000</td>\n",
       "      <td>6.000000</td>\n",
       "      <td>20.000000</td>\n",
       "      <td>28.000000</td>\n",
       "      <td>23.000000</td>\n",
       "    </tr>\n",
       "    <tr>\n",
       "      <th>75%</th>\n",
       "      <td>2016.0</td>\n",
       "      <td>3.700000</td>\n",
       "      <td>6.000000</td>\n",
       "      <td>23.000000</td>\n",
       "      <td>32.000000</td>\n",
       "      <td>27.000000</td>\n",
       "    </tr>\n",
       "    <tr>\n",
       "      <th>max</th>\n",
       "      <td>2016.0</td>\n",
       "      <td>8.400000</td>\n",
       "      <td>12.000000</td>\n",
       "      <td>58.000000</td>\n",
       "      <td>53.000000</td>\n",
       "      <td>56.000000</td>\n",
       "    </tr>\n",
       "  </tbody>\n",
       "</table>\n",
       "</div>"
      ],
      "text/plain": [
       "       Model Year    Eng Displ        # Cyl      City FE       Hwy FE  \\\n",
       "count      1205.0  1205.000000  1205.000000  1205.000000  1205.000000   \n",
       "mean       2016.0     3.150041     5.628216    20.461411    28.215768   \n",
       "std           0.0     1.336714     1.837556     5.449821     5.987383   \n",
       "min        2016.0     0.900000     3.000000    10.000000    13.000000   \n",
       "25%        2016.0     2.000000     4.000000    17.000000    24.000000   \n",
       "50%        2016.0     3.000000     6.000000    20.000000    28.000000   \n",
       "75%        2016.0     3.700000     6.000000    23.000000    32.000000   \n",
       "max        2016.0     8.400000    12.000000    58.000000    53.000000   \n",
       "\n",
       "           Comb FE  \n",
       "count  1205.000000  \n",
       "mean     23.295436  \n",
       "std       5.567975  \n",
       "min      12.000000  \n",
       "25%      19.000000  \n",
       "50%      23.000000  \n",
       "75%      27.000000  \n",
       "max      56.000000  "
      ]
     },
     "execution_count": 118,
     "metadata": {},
     "output_type": "execute_result"
    }
   ],
   "source": [
    "data.describe()"
   ]
  },
  {
   "cell_type": "code",
   "execution_count": 120,
   "id": "24d3d49f-869d-49a7-bc99-b588a27ac56d",
   "metadata": {},
   "outputs": [
    {
     "data": {
      "text/html": [
       "<div>\n",
       "<style scoped>\n",
       "    .dataframe tbody tr th:only-of-type {\n",
       "        vertical-align: middle;\n",
       "    }\n",
       "\n",
       "    .dataframe tbody tr th {\n",
       "        vertical-align: top;\n",
       "    }\n",
       "\n",
       "    .dataframe thead th {\n",
       "        text-align: right;\n",
       "    }\n",
       "</style>\n",
       "<table border=\"1\" class=\"dataframe\">\n",
       "  <thead>\n",
       "    <tr style=\"text-align: right;\">\n",
       "      <th></th>\n",
       "      <th>Division</th>\n",
       "      <th>Carline</th>\n",
       "    </tr>\n",
       "  </thead>\n",
       "  <tbody>\n",
       "    <tr>\n",
       "      <th>count</th>\n",
       "      <td>1205</td>\n",
       "      <td>1205</td>\n",
       "    </tr>\n",
       "    <tr>\n",
       "      <th>unique</th>\n",
       "      <td>43</td>\n",
       "      <td>768</td>\n",
       "    </tr>\n",
       "    <tr>\n",
       "      <th>top</th>\n",
       "      <td>BMW</td>\n",
       "      <td>Jetta</td>\n",
       "    </tr>\n",
       "    <tr>\n",
       "      <th>freq</th>\n",
       "      <td>107</td>\n",
       "      <td>6</td>\n",
       "    </tr>\n",
       "  </tbody>\n",
       "</table>\n",
       "</div>"
      ],
      "text/plain": [
       "       Division Carline\n",
       "count      1205    1205\n",
       "unique       43     768\n",
       "top         BMW   Jetta\n",
       "freq        107       6"
      ]
     },
     "execution_count": 120,
     "metadata": {},
     "output_type": "execute_result"
    }
   ],
   "source": [
    "data.describe(include=['O'])"
   ]
  },
  {
   "cell_type": "code",
   "execution_count": null,
   "id": "f3fd0605-be5a-4506-bee5-ddb38e1abacd",
   "metadata": {},
   "outputs": [],
   "source": []
  }
 ],
 "metadata": {
  "kernelspec": {
   "display_name": "Python 3 (ipykernel)",
   "language": "python",
   "name": "python3"
  },
  "language_info": {
   "codemirror_mode": {
    "name": "ipython",
    "version": 3
   },
   "file_extension": ".py",
   "mimetype": "text/x-python",
   "name": "python",
   "nbconvert_exporter": "python",
   "pygments_lexer": "ipython3",
   "version": "3.11.4"
  }
 },
 "nbformat": 4,
 "nbformat_minor": 5
}
